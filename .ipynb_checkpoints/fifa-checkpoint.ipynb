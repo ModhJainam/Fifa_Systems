{
 "cells": [
  {
   "cell_type": "code",
   "execution_count": 2,
   "metadata": {},
   "outputs": [],
   "source": [
    "import pyspark\n",
    "from pyspark.sql import SparkSession\n",
    "from pyspark.ml import Pipeline,Transformer\n",
    "from pyspark.ml.feature import Imputer,StandardScaler,StringIndexer,OneHotEncoder, VectorAssembler\n",
    "from pyspark.sql.functions import *\n",
    "from pyspark.sql.types import *\n",
    "import numpy as np\n",
    "import os\n",
    "import sys"
   ]
  },
  {
   "cell_type": "code",
   "execution_count": 3,
   "metadata": {},
   "outputs": [],
   "source": [
    "appName = \"Big Data Analytics\"\n",
    "master = \"local[*]\"\n",
    "\n",
    "# Create Configuration object for Spark.\n",
    "conf = pyspark.SparkConf()\\\n",
    "    .set('spark.driver.host','127.0.0.1')\\\n",
    "    .set(\"spark.drive.memory\", \"10g\")\\\n",
    "    .set(\"spark.executor.memory\", \"10g\")\\\n",
    "    .setAppName(appName)\\\n",
    "    .setMaster(master)\n",
    "\n",
    "spark = SparkSession.builder.config(conf = conf).getOrCreate()"
   ]
  },
  {
   "cell_type": "code",
   "execution_count": 4,
   "metadata": {},
   "outputs": [],
   "source": [
    "db_properties={}\n",
    "db_properties['username']=\"postgres\"\n",
    "db_properties['password']=\"systems\"\n",
    "db_properties['url']= \"jdbc:postgresql://localhost:5432/postgres\"\n",
    "db_properties['table']=\"mqtt.mqtt\"\n",
    "db_properties['driver']=\"org.postgresql.Driver\""
   ]
  },
  {
   "cell_type": "code",
   "execution_count": null,
   "metadata": {},
   "outputs": [],
   "source": [
    "train_raw = spark.read.csv('./Data/FINAL_CSV/train70.csv',header = True)\n",
    "test_raw = spark.read.csv('./Data/FINAL_CSV/test30.csv', header = True)"
   ]
  },
  {
   "cell_type": "code",
   "execution_count": 7,
   "metadata": {},
   "outputs": [],
   "source": [
    "# Add dataset_type column\n",
    "train = train_raw.withColumn(\"dataset_type\", lit(\"train\"))\n",
    "test = test_raw.withColumn(\"dataset_type\", lit(\"test\"))"
   ]
  },
  {
   "cell_type": "code",
   "execution_count": 8,
   "metadata": {},
   "outputs": [],
   "source": [
    "# Combine datasets\n",
    "combined_df = train.union(test)"
   ]
  },
  {
   "cell_type": "code",
   "execution_count": null,
   "metadata": {},
   "outputs": [],
   "source": [
    "# Write to PostgreSQL\n",
    "\n",
    "combined_df.write.format(\"jdbc\")\\\n",
    ".mode(\"overwrite\")\\\n",
    ".option(\"url\", db_properties['url'])\\\n",
    ".option(\"dbtable\", db_properties['table'])\\\n",
    ".option(\"user\", db_properties['username'])\\\n",
    ".option(\"password\", db_properties['password'])\\\n",
    ".option(\"Driver\", db_properties['driver'])\\\n",
    ".save()"
   ]
  },
  {
   "cell_type": "code",
   "execution_count": 5,
   "metadata": {},
   "outputs": [],
   "source": [
    "# Read from PostgreSQL to verify\n",
    "df_from_postgres = spark.read \\\n",
    "    .format(\"jdbc\") \\\n",
    "    .option(\"url\", db_properties['url'])\\\n",
    "    .option(\"dbtable\", db_properties['table'])\\\n",
    "    .option(\"user\", db_properties['username'])\\\n",
    "    .option(\"password\", db_properties['password'])\\\n",
    "    .option(\"Driver\", db_properties['driver'])\\\n",
    "    .load()"
   ]
  },
  {
   "cell_type": "code",
   "execution_count": 6,
   "metadata": {},
   "outputs": [
    {
     "name": "stdout",
     "output_type": "stream",
     "text": [
      "root\n",
      " |-- tcp.flags: string (nullable = true)\n",
      " |-- tcp.time_delta: string (nullable = true)\n",
      " |-- tcp.len: string (nullable = true)\n",
      " |-- mqtt.conack.flags: string (nullable = true)\n",
      " |-- mqtt.conack.flags.reserved: string (nullable = true)\n",
      " |-- mqtt.conack.flags.sp: string (nullable = true)\n",
      " |-- mqtt.conack.val: string (nullable = true)\n",
      " |-- mqtt.conflag.cleansess: string (nullable = true)\n",
      " |-- mqtt.conflag.passwd: string (nullable = true)\n",
      " |-- mqtt.conflag.qos: string (nullable = true)\n",
      " |-- mqtt.conflag.reserved: string (nullable = true)\n",
      " |-- mqtt.conflag.retain: string (nullable = true)\n",
      " |-- mqtt.conflag.uname: string (nullable = true)\n",
      " |-- mqtt.conflag.willflag: string (nullable = true)\n",
      " |-- mqtt.conflags: string (nullable = true)\n",
      " |-- mqtt.dupflag: string (nullable = true)\n",
      " |-- mqtt.hdrflags: string (nullable = true)\n",
      " |-- mqtt.kalive: string (nullable = true)\n",
      " |-- mqtt.len: string (nullable = true)\n",
      " |-- mqtt.msg: string (nullable = true)\n",
      " |-- mqtt.msgid: string (nullable = true)\n",
      " |-- mqtt.msgtype: string (nullable = true)\n",
      " |-- mqtt.proto_len: string (nullable = true)\n",
      " |-- mqtt.protoname: string (nullable = true)\n",
      " |-- mqtt.qos: string (nullable = true)\n",
      " |-- mqtt.retain: string (nullable = true)\n",
      " |-- mqtt.sub.qos: string (nullable = true)\n",
      " |-- mqtt.suback.qos: string (nullable = true)\n",
      " |-- mqtt.ver: string (nullable = true)\n",
      " |-- mqtt.willmsg: string (nullable = true)\n",
      " |-- mqtt.willmsg_len: string (nullable = true)\n",
      " |-- mqtt.willtopic: string (nullable = true)\n",
      " |-- mqtt.willtopic_len: string (nullable = true)\n",
      " |-- target: string (nullable = true)\n",
      " |-- dataset_type: string (nullable = true)\n",
      "\n"
     ]
    }
   ],
   "source": [
    "df_from_postgres.printSchema()"
   ]
  },
  {
   "cell_type": "code",
   "execution_count": 7,
   "metadata": {},
   "outputs": [
    {
     "data": {
      "text/plain": [
       "12081189"
      ]
     },
     "execution_count": 7,
     "metadata": {},
     "output_type": "execute_result"
    }
   ],
   "source": [
    "df_from_postgres.count()"
   ]
  },
  {
   "cell_type": "code",
   "execution_count": 8,
   "metadata": {},
   "outputs": [],
   "source": [
    "df_from_postgres.limit(1).show()"
   ]
  },
  {
   "cell_type": "code",
   "execution_count": null,
   "metadata": {},
   "outputs": [],
   "source": []
  }
 ],
 "metadata": {
  "kernelspec": {
   "display_name": "Python 3",
   "language": "python",
   "name": "python3"
  },
  "language_info": {
   "codemirror_mode": {
    "name": "ipython",
    "version": 3
   },
   "file_extension": ".py",
   "mimetype": "text/x-python",
   "name": "python",
   "nbconvert_exporter": "python",
   "pygments_lexer": "ipython3",
   "version": "3.12.5"
  }
 },
 "nbformat": 4,
 "nbformat_minor": 2
}
